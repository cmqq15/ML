{
 "cells": [
  {
   "cell_type": "code",
   "execution_count": 18,
   "id": "cc697e75",
   "metadata": {},
   "outputs": [],
   "source": [
    "# Import necessary libraries\n",
    "import pandas as pd\n",
    "from sklearn.model_selection import train_test_split\n",
    "from sklearn.linear_model import (LinearRegression, Ridge, Lasso, ElasticNet, SGDRegressor, HuberRegressor)\n",
    "from sklearn.ensemble import RandomForestRegressor\n",
    "from sklearn.svm import SVR\n",
    "from sklearn.preprocessing import PolynomialFeatures\n",
    "from sklearn.pipeline import Pipeline\n",
    "from sklearn.neural_network import MLPRegressor\n",
    "from sklearn.neighbors import KNeighborsRegressor\n",
    "import lightgbm as lgb\n",
    "import xgboost as xgb\n",
    "from sklearn.metrics import mean_absolute_error, mean_squared_error, r2_score\n",
    "import pickle"
   ]
  },
  {
   "cell_type": "code",
   "execution_count": 7,
   "id": "3cbbce75",
   "metadata": {},
   "outputs": [],
   "source": [
    "# Load dataset\n",
    "data = pd.read_csv(r\"D:\\Dropbox\\DS & AI\\Full stack DS and AI course\\27 Jun\\HOUSING REGRESSOR- capstone project\\USA_Housing.csv\")"
   ]
  },
  {
   "cell_type": "code",
   "execution_count": 8,
   "id": "cdc4e5bc",
   "metadata": {},
   "outputs": [],
   "source": [
    "# Preprocessing\n",
    "X = data.drop(['Price', 'Address'], axis=1) \n",
    "y = data['Price']"
   ]
  },
  {
   "cell_type": "code",
   "execution_count": 9,
   "id": "198d09a3",
   "metadata": {},
   "outputs": [],
   "source": [
    "# Split data\n",
    "X_train, X_test, y_train, y_test = train_test_split(X, y, test_size=0.2, random_state=0)"
   ]
  },
  {
   "cell_type": "code",
   "execution_count": 11,
   "id": "8f6529d2",
   "metadata": {},
   "outputs": [],
   "source": [
    "# Define models\n",
    "models = {\n",
    "    'LinearRegression': LinearRegression(),\n",
    "    'RobustRegression': HuberRegressor(),\n",
    "    'RidgeRegression': Ridge(),\n",
    "    'LassoRegression': Lasso(),\n",
    "    'ElasticNet': ElasticNet(),\n",
    "    'PolynomialRegression': Pipeline([\n",
    "        ('poly', PolynomialFeatures(degree=4)),\n",
    "        ('linear', LinearRegression())\n",
    "    ]),\n",
    "    'SGDRegressor': SGDRegressor(),\n",
    "    'ANN': MLPRegressor(hidden_layer_sizes=(100,), max_iter=1000),\n",
    "    'RandomForest': RandomForestRegressor(),\n",
    "    'SVM': SVR(),\n",
    "    'LGBM': lgb.LGBMRegressor(),\n",
    "    'XGBoost': xgb.XGBRegressor(),\n",
    "    'KNN': KNeighborsRegressor()\n",
    "}\n",
    "\n"
   ]
  },
  {
   "cell_type": "code",
   "execution_count": 13,
   "id": "de54db1a",
   "metadata": {},
   "outputs": [
    {
     "name": "stdout",
     "output_type": "stream",
     "text": [
      "[LightGBM] [Warning] Found whitespace in feature_names, replace with underlines\n",
      "[LightGBM] [Info] Auto-choosing col-wise multi-threading, the overhead of testing was 0.000327 seconds.\n",
      "You can set `force_col_wise=true` to remove the overhead.\n",
      "[LightGBM] [Info] Total Bins 1256\n",
      "[LightGBM] [Info] Number of data points in the train set: 4000, number of used features: 5\n",
      "[LightGBM] [Info] Start training from score 1231911.452183\n"
     ]
    }
   ],
   "source": [
    "# Train and evaluate models\n",
    "results = []\n",
    " \n",
    "for name, model in models.items():\n",
    "    model.fit(X_train, y_train)\n",
    "    y_pred=model.predict(X_test)\n",
    "\n",
    "    mse = mean_squared_error(y_test, y_pred)\n",
    "    r2 = r2_score(y_test, y_pred)\n",
    "    mae= mean_absolute_error(y_test, y_pred)\n",
    "\n",
    "    results.append({\n",
    "        'Model': name,\n",
    "        'MSE': mse,\n",
    "        'R2 Score': r2,\n",
    "        'MAE': mae\n",
    "    })\n",
    "\n",
    "    with open(f'{name}_model.pkl', 'wb') as file:\n",
    "        pickle.dump(model, file)    \n"
   ]
  },
  {
   "cell_type": "code",
   "execution_count": 14,
   "id": "a719067a",
   "metadata": {},
   "outputs": [
    {
     "name": "stdout",
     "output_type": "stream",
     "text": [
      "Models have been trained and saved as pickle files. Evaluation results have been saved to model_evaluation_results.csv.\n"
     ]
    }
   ],
   "source": [
    "# Convert results to DataFrame and save to CSV\n",
    "results_df = pd.DataFrame(results)\n",
    "results_df.to_csv('model_evaluation_results.csv', index=False)\n",
    "\n",
    "print(\"Models have been trained and saved as pickle files. Evaluation results have been saved to model_evaluation_results.csv.\")"
   ]
  },
  {
   "cell_type": "code",
   "execution_count": 15,
   "id": "50848db3",
   "metadata": {},
   "outputs": [],
   "source": [
    "#Convert results to DataFrame\n",
    "results_df = pd.DataFrame(results)  "
   ]
  },
  {
   "cell_type": "code",
   "execution_count": 16,
   "id": "aa85e5b1",
   "metadata": {},
   "outputs": [],
   "source": [
    "#Save the results to a CSV file\n",
    "results_df.to_csv('model_results.csv', index=False)"
   ]
  },
  {
   "cell_type": "code",
   "execution_count": 17,
   "id": "5f9e8d05",
   "metadata": {},
   "outputs": [
    {
     "name": "stdout",
     "output_type": "stream",
     "text": [
      "Model Evaluation Results:\n",
      "                   Model           MSE      R2 Score           MAE\n",
      "0       LinearRegression  1.054972e+10  9.146455e-01  8.265795e+04\n",
      "1       RobustRegression  6.166491e+10  5.010882e-01  1.994656e+05\n",
      "2        RidgeRegression  1.054975e+10  9.146453e-01  8.265967e+04\n",
      "3        LassoRegression  1.054972e+10  9.146455e-01  8.265795e+04\n",
      "4             ElasticNet  1.508138e+10  8.779812e-01  9.912681e+04\n",
      "5   PolynomialRegression  1.087026e+10  9.120521e-01  8.410057e+04\n",
      "6           SGDRegressor  8.426740e+35 -6.817816e+24  9.098289e+17\n",
      "7                    ANN  6.149688e+10  5.024476e-01  1.993568e+05\n",
      "8           RandomForest  1.505877e+10  8.781642e-01  9.805428e+04\n",
      "9                    SVM  1.235466e+11  4.227862e-04  2.829477e+05\n",
      "10                  LGBM  1.309771e+10  8.940305e-01  9.213399e+04\n",
      "11               XGBoost  1.613868e+10  8.694269e-01  1.015652e+05\n",
      "12                   KNN  6.039581e+10  5.113561e-01  1.980862e+05\n"
     ]
    }
   ],
   "source": [
    "#Print the results\n",
    "print(\"Model Evaluation Results:\")\n",
    "print(results_df)"
   ]
  }
 ],
 "metadata": {
  "kernelspec": {
   "display_name": "base",
   "language": "python",
   "name": "python3"
  },
  "language_info": {
   "codemirror_mode": {
    "name": "ipython",
    "version": 3
   },
   "file_extension": ".py",
   "mimetype": "text/x-python",
   "name": "python",
   "nbconvert_exporter": "python",
   "pygments_lexer": "ipython3",
   "version": "3.12.7"
  }
 },
 "nbformat": 4,
 "nbformat_minor": 5
}
