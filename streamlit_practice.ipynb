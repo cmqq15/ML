{
 "cells": [
  {
   "cell_type": "markdown",
   "id": "2695dcde",
   "metadata": {},
   "source": [
    "The trend of Data Science and Analytics is increasing day by day. From the data science pipeline, one of the most important steps is model deployment. We have a lot of options in python for deploying our model. Some popular frameworks are Flask and Django. But the issue with using these frameworks is that we should have some knowledge of HTML, CSS, and JavaScript. Keeping these prerequisites in mind, Adrien Treuille, Thiago Teixeira, and Amanda Kelly created \"Streamlit\". Now using streamlit you can deploy any machine learning model and any python project with ease and without worrying about the frontend. Streamlit is very user-friendly.\n",
    "\n",
    "In this article, we will learn some important functions of streamlit, create a python project, and deploy the project on a local web server."
   ]
  },
  {
   "cell_type": "code",
   "execution_count": 1,
   "id": "e6ec3598",
   "metadata": {},
   "outputs": [
    {
     "name": "stdout",
     "output_type": "stream",
     "text": [
      "Requirement already satisfied: streamlit in c:\\users\\dell\\anaconda3\\lib\\site-packages (1.37.1)Note: you may need to restart the kernel to use updated packages.\n",
      "\n",
      "Requirement already satisfied: altair<6,>=4.0 in c:\\users\\dell\\anaconda3\\lib\\site-packages (from streamlit) (5.0.1)\n",
      "Requirement already satisfied: blinker<2,>=1.0.0 in c:\\users\\dell\\anaconda3\\lib\\site-packages (from streamlit) (1.6.2)\n",
      "Requirement already satisfied: cachetools<6,>=4.0 in c:\\users\\dell\\anaconda3\\lib\\site-packages (from streamlit) (5.3.3)\n",
      "Requirement already satisfied: click<9,>=7.0 in c:\\users\\dell\\anaconda3\\lib\\site-packages (from streamlit) (8.1.7)\n",
      "Requirement already satisfied: numpy<3,>=1.20 in c:\\users\\dell\\anaconda3\\lib\\site-packages (from streamlit) (1.26.4)\n",
      "Requirement already satisfied: packaging<25,>=20 in c:\\users\\dell\\anaconda3\\lib\\site-packages (from streamlit) (24.1)\n",
      "Requirement already satisfied: pandas<3,>=1.3.0 in c:\\users\\dell\\anaconda3\\lib\\site-packages (from streamlit) (2.2.2)\n",
      "Requirement already satisfied: pillow<11,>=7.1.0 in c:\\users\\dell\\anaconda3\\lib\\site-packages (from streamlit) (10.4.0)\n",
      "Requirement already satisfied: protobuf<6,>=3.20 in c:\\users\\dell\\anaconda3\\lib\\site-packages (from streamlit) (5.29.5)\n",
      "Requirement already satisfied: pyarrow>=7.0 in c:\\users\\dell\\anaconda3\\lib\\site-packages (from streamlit) (16.1.0)\n",
      "Requirement already satisfied: requests<3,>=2.27 in c:\\users\\dell\\anaconda3\\lib\\site-packages (from streamlit) (2.32.3)\n",
      "Requirement already satisfied: rich<14,>=10.14.0 in c:\\users\\dell\\anaconda3\\lib\\site-packages (from streamlit) (13.7.1)\n",
      "Requirement already satisfied: tenacity<9,>=8.1.0 in c:\\users\\dell\\anaconda3\\lib\\site-packages (from streamlit) (8.2.3)\n",
      "Requirement already satisfied: toml<2,>=0.10.1 in c:\\users\\dell\\anaconda3\\lib\\site-packages (from streamlit) (0.10.2)\n",
      "Requirement already satisfied: typing-extensions<5,>=4.3.0 in c:\\users\\dell\\anaconda3\\lib\\site-packages (from streamlit) (4.13.2)\n",
      "Requirement already satisfied: gitpython!=3.1.19,<4,>=3.0.7 in c:\\users\\dell\\anaconda3\\lib\\site-packages (from streamlit) (3.1.43)\n",
      "Requirement already satisfied: pydeck<1,>=0.8.0b4 in c:\\users\\dell\\anaconda3\\lib\\site-packages (from streamlit) (0.8.0)\n",
      "Requirement already satisfied: tornado<7,>=6.0.3 in c:\\users\\dell\\anaconda3\\lib\\site-packages (from streamlit) (6.4.1)\n",
      "Requirement already satisfied: watchdog<5,>=2.1.5 in c:\\users\\dell\\anaconda3\\lib\\site-packages (from streamlit) (4.0.1)\n",
      "Requirement already satisfied: jinja2 in c:\\users\\dell\\anaconda3\\lib\\site-packages (from altair<6,>=4.0->streamlit) (3.1.4)\n",
      "Requirement already satisfied: jsonschema>=3.0 in c:\\users\\dell\\anaconda3\\lib\\site-packages (from altair<6,>=4.0->streamlit) (4.23.0)\n",
      "Requirement already satisfied: toolz in c:\\users\\dell\\anaconda3\\lib\\site-packages (from altair<6,>=4.0->streamlit) (0.12.0)\n",
      "Requirement already satisfied: colorama in c:\\users\\dell\\anaconda3\\lib\\site-packages (from click<9,>=7.0->streamlit) (0.4.6)\n",
      "Requirement already satisfied: gitdb<5,>=4.0.1 in c:\\users\\dell\\anaconda3\\lib\\site-packages (from gitpython!=3.1.19,<4,>=3.0.7->streamlit) (4.0.7)\n",
      "Requirement already satisfied: python-dateutil>=2.8.2 in c:\\users\\dell\\anaconda3\\lib\\site-packages (from pandas<3,>=1.3.0->streamlit) (2.9.0.post0)\n",
      "Requirement already satisfied: pytz>=2020.1 in c:\\users\\dell\\anaconda3\\lib\\site-packages (from pandas<3,>=1.3.0->streamlit) (2024.1)\n",
      "Requirement already satisfied: tzdata>=2022.7 in c:\\users\\dell\\anaconda3\\lib\\site-packages (from pandas<3,>=1.3.0->streamlit) (2023.3)\n",
      "Requirement already satisfied: charset-normalizer<4,>=2 in c:\\users\\dell\\anaconda3\\lib\\site-packages (from requests<3,>=2.27->streamlit) (3.3.2)\n",
      "Requirement already satisfied: idna<4,>=2.5 in c:\\users\\dell\\anaconda3\\lib\\site-packages (from requests<3,>=2.27->streamlit) (3.7)\n",
      "Requirement already satisfied: urllib3<3,>=1.21.1 in c:\\users\\dell\\anaconda3\\lib\\site-packages (from requests<3,>=2.27->streamlit) (2.2.3)\n",
      "Requirement already satisfied: certifi>=2017.4.17 in c:\\users\\dell\\anaconda3\\lib\\site-packages (from requests<3,>=2.27->streamlit) (2025.4.26)\n",
      "Requirement already satisfied: markdown-it-py>=2.2.0 in c:\\users\\dell\\anaconda3\\lib\\site-packages (from rich<14,>=10.14.0->streamlit) (2.2.0)\n",
      "Requirement already satisfied: pygments<3.0.0,>=2.13.0 in c:\\users\\dell\\anaconda3\\lib\\site-packages (from rich<14,>=10.14.0->streamlit) (2.15.1)\n",
      "Requirement already satisfied: smmap<5,>=3.0.1 in c:\\users\\dell\\anaconda3\\lib\\site-packages (from gitdb<5,>=4.0.1->gitpython!=3.1.19,<4,>=3.0.7->streamlit) (4.0.0)\n",
      "Requirement already satisfied: MarkupSafe>=2.0 in c:\\users\\dell\\anaconda3\\lib\\site-packages (from jinja2->altair<6,>=4.0->streamlit) (2.1.3)\n",
      "Requirement already satisfied: attrs>=22.2.0 in c:\\users\\dell\\anaconda3\\lib\\site-packages (from jsonschema>=3.0->altair<6,>=4.0->streamlit) (23.1.0)\n",
      "Requirement already satisfied: jsonschema-specifications>=2023.03.6 in c:\\users\\dell\\anaconda3\\lib\\site-packages (from jsonschema>=3.0->altair<6,>=4.0->streamlit) (2023.7.1)\n",
      "Requirement already satisfied: referencing>=0.28.4 in c:\\users\\dell\\anaconda3\\lib\\site-packages (from jsonschema>=3.0->altair<6,>=4.0->streamlit) (0.30.2)\n",
      "Requirement already satisfied: rpds-py>=0.7.1 in c:\\users\\dell\\anaconda3\\lib\\site-packages (from jsonschema>=3.0->altair<6,>=4.0->streamlit) (0.10.6)\n",
      "Requirement already satisfied: mdurl~=0.1 in c:\\users\\dell\\anaconda3\\lib\\site-packages (from markdown-it-py>=2.2.0->rich<14,>=10.14.0->streamlit) (0.1.0)\n",
      "Requirement already satisfied: six>=1.5 in c:\\users\\dell\\anaconda3\\lib\\site-packages (from python-dateutil>=2.8.2->pandas<3,>=1.3.0->streamlit) (1.16.0)\n"
     ]
    }
   ],
   "source": [
    "pip install streamlit"
   ]
  },
  {
   "cell_type": "code",
   "execution_count": 5,
   "id": "38892b06",
   "metadata": {},
   "outputs": [],
   "source": [
    "# Let us test the streamlit installation\n",
    "import streamlit as st"
   ]
  },
  {
   "cell_type": "code",
   "execution_count": 11,
   "id": "63fefa01",
   "metadata": {},
   "outputs": [],
   "source": [
    "st.write(\"Hello World\")"
   ]
  },
  {
   "cell_type": "code",
   "execution_count": 9,
   "id": "534e5258",
   "metadata": {},
   "outputs": [],
   "source": [
    "st.title(\"Hello, Streamlit!\")\n",
    "st.write(\"This is a simple Streamlit app.\")"
   ]
  },
  {
   "cell_type": "markdown",
   "id": "38947bff",
   "metadata": {},
   "source": [
    "# Understanding the Streamlit basic functions"
   ]
  },
  {
   "cell_type": "code",
   "execution_count": 4,
   "id": "3403c749",
   "metadata": {},
   "outputs": [
    {
     "name": "stderr",
     "output_type": "stream",
     "text": [
      "2025-06-14 19:26:06.287 \n",
      "  \u001b[33m\u001b[1mWarning:\u001b[0m to view this Streamlit app on a browser, run it with the following\n",
      "  command:\n",
      "\n",
      "    streamlit run c:\\Users\\Dell\\anaconda3\\Lib\\site-packages\\ipykernel_launcher.py [ARGUMENTS]\n"
     ]
    },
    {
     "data": {
      "text/plain": [
       "DeltaGenerator()"
      ]
     },
     "execution_count": 4,
     "metadata": {},
     "output_type": "execute_result"
    }
   ],
   "source": [
    "# Title\n",
    "# import module\n",
    "import streamlit as st\n",
    "\n",
    "# Title\n",
    "st.title(\"Hello GeeksForGeeks !!!\")"
   ]
  },
  {
   "cell_type": "markdown",
   "id": "fc1103e6",
   "metadata": {},
   "source": []
  },
  {
   "cell_type": "code",
   "execution_count": 2,
   "id": "4d2db9db",
   "metadata": {},
   "outputs": [
    {
     "name": "stdout",
     "output_type": "stream",
     "text": [
      "Collecting mkdocs-material\n",
      "  Downloading mkdocs_material-9.6.14-py3-none-any.whl.metadata (18 kB)\n",
      "Requirement already satisfied: babel~=2.10 in c:\\users\\dell\\anaconda3\\lib\\site-packages (from mkdocs-material) (2.11.0)\n",
      "Collecting backrefs~=5.7.post1 (from mkdocs-material)\n",
      "  Downloading backrefs-5.8-py312-none-any.whl.metadata (3.3 kB)\n",
      "Requirement already satisfied: colorama~=0.4 in c:\\users\\dell\\anaconda3\\lib\\site-packages (from mkdocs-material) (0.4.6)\n",
      "Requirement already satisfied: jinja2~=3.1 in c:\\users\\dell\\anaconda3\\lib\\site-packages (from mkdocs-material) (3.1.4)\n",
      "Requirement already satisfied: markdown~=3.2 in c:\\users\\dell\\anaconda3\\lib\\site-packages (from mkdocs-material) (3.4.1)\n",
      "Collecting mkdocs-material-extensions~=1.3 (from mkdocs-material)\n",
      "  Downloading mkdocs_material_extensions-1.3.1-py3-none-any.whl.metadata (6.9 kB)\n",
      "Collecting mkdocs~=1.6 (from mkdocs-material)\n",
      "  Downloading mkdocs-1.6.1-py3-none-any.whl.metadata (6.0 kB)\n",
      "Collecting paginate~=0.5 (from mkdocs-material)\n",
      "  Downloading paginate-0.5.7-py2.py3-none-any.whl.metadata (11 kB)\n",
      "Collecting pygments~=2.16 (from mkdocs-material)\n",
      "  Downloading pygments-2.19.1-py3-none-any.whl.metadata (2.5 kB)\n",
      "Collecting pymdown-extensions~=10.2 (from mkdocs-material)\n",
      "  Downloading pymdown_extensions-10.15-py3-none-any.whl.metadata (3.0 kB)\n",
      "Requirement already satisfied: requests~=2.26 in c:\\users\\dell\\anaconda3\\lib\\site-packages (from mkdocs-material) (2.32.3)\n",
      "Requirement already satisfied: pytz>=2015.7 in c:\\users\\dell\\anaconda3\\lib\\site-packages (from babel~=2.10->mkdocs-material) (2024.1)\n",
      "Requirement already satisfied: MarkupSafe>=2.0 in c:\\users\\dell\\anaconda3\\lib\\site-packages (from jinja2~=3.1->mkdocs-material) (2.1.3)\n",
      "Requirement already satisfied: click>=7.0 in c:\\users\\dell\\anaconda3\\lib\\site-packages (from mkdocs~=1.6->mkdocs-material) (8.1.7)\n",
      "Collecting ghp-import>=1.0 (from mkdocs~=1.6->mkdocs-material)\n",
      "  Downloading ghp_import-2.1.0-py3-none-any.whl.metadata (7.2 kB)\n",
      "Collecting mergedeep>=1.3.4 (from mkdocs~=1.6->mkdocs-material)\n",
      "  Downloading mergedeep-1.3.4-py3-none-any.whl.metadata (4.3 kB)\n",
      "Collecting mkdocs-get-deps>=0.2.0 (from mkdocs~=1.6->mkdocs-material)\n",
      "  Downloading mkdocs_get_deps-0.2.0-py3-none-any.whl.metadata (4.0 kB)\n",
      "Requirement already satisfied: packaging>=20.5 in c:\\users\\dell\\anaconda3\\lib\\site-packages (from mkdocs~=1.6->mkdocs-material) (24.1)\n",
      "Collecting pathspec>=0.11.1 (from mkdocs~=1.6->mkdocs-material)\n",
      "  Downloading pathspec-0.12.1-py3-none-any.whl.metadata (21 kB)\n",
      "Collecting pyyaml-env-tag>=0.1 (from mkdocs~=1.6->mkdocs-material)\n",
      "  Downloading pyyaml_env_tag-1.1-py3-none-any.whl.metadata (5.5 kB)\n",
      "Requirement already satisfied: pyyaml>=5.1 in c:\\users\\dell\\anaconda3\\lib\\site-packages (from mkdocs~=1.6->mkdocs-material) (6.0.1)\n",
      "Requirement already satisfied: watchdog>=2.0 in c:\\users\\dell\\anaconda3\\lib\\site-packages (from mkdocs~=1.6->mkdocs-material) (4.0.1)\n",
      "Collecting markdown~=3.2 (from mkdocs-material)\n",
      "  Downloading markdown-3.8-py3-none-any.whl.metadata (5.1 kB)\n",
      "Requirement already satisfied: charset-normalizer<4,>=2 in c:\\users\\dell\\anaconda3\\lib\\site-packages (from requests~=2.26->mkdocs-material) (3.3.2)\n",
      "Requirement already satisfied: idna<4,>=2.5 in c:\\users\\dell\\anaconda3\\lib\\site-packages (from requests~=2.26->mkdocs-material) (3.7)\n",
      "Requirement already satisfied: urllib3<3,>=1.21.1 in c:\\users\\dell\\anaconda3\\lib\\site-packages (from requests~=2.26->mkdocs-material) (2.2.3)\n",
      "Requirement already satisfied: certifi>=2017.4.17 in c:\\users\\dell\\anaconda3\\lib\\site-packages (from requests~=2.26->mkdocs-material) (2025.4.26)\n",
      "Requirement already satisfied: python-dateutil>=2.8.1 in c:\\users\\dell\\anaconda3\\lib\\site-packages (from ghp-import>=1.0->mkdocs~=1.6->mkdocs-material) (2.9.0.post0)\n",
      "Requirement already satisfied: platformdirs>=2.2.0 in c:\\users\\dell\\anaconda3\\lib\\site-packages (from mkdocs-get-deps>=0.2.0->mkdocs~=1.6->mkdocs-material) (3.10.0)\n",
      "Requirement already satisfied: six>=1.5 in c:\\users\\dell\\anaconda3\\lib\\site-packages (from python-dateutil>=2.8.1->ghp-import>=1.0->mkdocs~=1.6->mkdocs-material) (1.16.0)\n",
      "Downloading mkdocs_material-9.6.14-py3-none-any.whl (8.7 MB)\n",
      "   ---------------------------------------- 0.0/8.7 MB ? eta -:--:--\n",
      "   ---------------------------------------- 0.0/8.7 MB ? eta -:--:--\n",
      "   -- ------------------------------------- 0.5/8.7 MB 2.1 MB/s eta 0:00:04\n",
      "   ------ --------------------------------- 1.3/8.7 MB 3.4 MB/s eta 0:00:03\n",
      "   ------------- -------------------------- 2.9/8.7 MB 5.1 MB/s eta 0:00:02\n",
      "   ------------------------- -------------- 5.5/8.7 MB 6.8 MB/s eta 0:00:01\n",
      "   ------------------------------ --------- 6.6/8.7 MB 6.4 MB/s eta 0:00:01\n",
      "   ------------------------------- -------- 6.8/8.7 MB 5.6 MB/s eta 0:00:01\n",
      "   ------------------------------------- -- 8.1/8.7 MB 5.5 MB/s eta 0:00:01\n",
      "   ---------------------------------------- 8.7/8.7 MB 5.5 MB/s eta 0:00:00\n",
      "Downloading backrefs-5.8-py312-none-any.whl (398 kB)\n",
      "Downloading mkdocs-1.6.1-py3-none-any.whl (3.9 MB)\n",
      "   ---------------------------------------- 0.0/3.9 MB ? eta -:--:--\n",
      "   ------------------ --------------------- 1.8/3.9 MB 10.1 MB/s eta 0:00:01\n",
      "   ---------------------------------------- 3.9/3.9 MB 9.6 MB/s eta 0:00:00\n",
      "Downloading mkdocs_material_extensions-1.3.1-py3-none-any.whl (8.7 kB)\n",
      "Downloading paginate-0.5.7-py2.py3-none-any.whl (13 kB)\n",
      "Downloading pygments-2.19.1-py3-none-any.whl (1.2 MB)\n",
      "   ---------------------------------------- 0.0/1.2 MB ? eta -:--:--\n",
      "   ---------------------------------------- 1.2/1.2 MB 5.2 MB/s eta 0:00:00\n",
      "Downloading pymdown_extensions-10.15-py3-none-any.whl (265 kB)\n",
      "Downloading markdown-3.8-py3-none-any.whl (106 kB)\n",
      "Downloading ghp_import-2.1.0-py3-none-any.whl (11 kB)\n",
      "Downloading mergedeep-1.3.4-py3-none-any.whl (6.4 kB)\n",
      "Downloading mkdocs_get_deps-0.2.0-py3-none-any.whl (9.5 kB)\n",
      "Downloading pathspec-0.12.1-py3-none-any.whl (31 kB)\n",
      "Downloading pyyaml_env_tag-1.1-py3-none-any.whl (4.7 kB)\n",
      "Installing collected packages: paginate, pyyaml-env-tag, pygments, pathspec, mkdocs-material-extensions, mergedeep, markdown, backrefs, pymdown-extensions, mkdocs-get-deps, ghp-import, mkdocs, mkdocs-material\n",
      "  Attempting uninstall: pygments\n",
      "    Found existing installation: Pygments 2.15.1\n",
      "    Uninstalling Pygments-2.15.1:\n",
      "      Successfully uninstalled Pygments-2.15.1\n",
      "  Attempting uninstall: pathspec\n",
      "    Found existing installation: pathspec 0.10.3\n",
      "    Uninstalling pathspec-0.10.3:\n",
      "      Successfully uninstalled pathspec-0.10.3\n",
      "  Attempting uninstall: markdown\n",
      "    Found existing installation: Markdown 3.4.1\n",
      "    Uninstalling Markdown-3.4.1:\n",
      "      Successfully uninstalled Markdown-3.4.1\n",
      "Successfully installed backrefs-5.8 ghp-import-2.1.0 markdown-3.8 mergedeep-1.3.4 mkdocs-1.6.1 mkdocs-get-deps-0.2.0 mkdocs-material-9.6.14 mkdocs-material-extensions-1.3.1 paginate-0.5.7 pathspec-0.12.1 pygments-2.19.1 pymdown-extensions-10.15 pyyaml-env-tag-1.1\n",
      "Note: you may need to restart the kernel to use updated packages.\n"
     ]
    },
    {
     "name": "stderr",
     "output_type": "stream",
     "text": [
      "ERROR: pip's dependency resolver does not currently take into account all the packages that are installed. This behaviour is the source of the following dependency conflicts.\n",
      "spyder 5.5.1 requires spyder-kernels<2.6.0,>=2.5.0, but you have spyder-kernels 3.1.0a1 which is incompatible.\n"
     ]
    }
   ],
   "source": [
    "pip install mkdocs-material"
   ]
  }
 ],
 "metadata": {
  "kernelspec": {
   "display_name": "base",
   "language": "python",
   "name": "python3"
  },
  "language_info": {
   "codemirror_mode": {
    "name": "ipython",
    "version": 3
   },
   "file_extension": ".py",
   "mimetype": "text/x-python",
   "name": "python",
   "nbconvert_exporter": "python",
   "pygments_lexer": "ipython3",
   "version": "3.12.7"
  }
 },
 "nbformat": 4,
 "nbformat_minor": 5
}
