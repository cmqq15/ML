{
 "cells": [
  {
   "cell_type": "markdown",
   "id": "b3d2a44f",
   "metadata": {},
   "source": [
    "# Featurization, Model Selection & Tuning - Linear Regression\n",
    "\n",
    "**Why is regularization required ?**\n",
    "\n",
    "We are well aware of the issue of 'Curse of dimensionality', where the no. of columns are so huge that the no. of rows does not cover all the permutation and combinations that is applicable for this dataset.\n",
    "For eg: Data having 10 columns should have 10! rows but it has only 1000 rows\n",
    "\n",
    "Therefore,when we depict this graphically there would be lot of white spaces as the datapoints for those regions may not be covered in the dataset.\n",
    "\n",
    "If a  linear regression model is tested over such a data, the model will tend to overfit this data by having sharp peaks & slopes. Such a model would have 100% training accuracy but would definitely fail in the test environment.\n",
    "\n",
    "Thus arose the need of introducing slight errors in the form of giving smooth bends instead of sharp peaks (thereby reducing overfit).This is achieved by tweaking the model parameters (coefficients) and the hyperparameters (penalty factor) of the model.\n",
    "\n",
    "## Agenda\n",
    "\n",
    "* Perform basic EDA\n",
    "* Scale data and apply Linear, Ridge & Lasso Regression with Regularization \n",
    "* Compare the r^2 score to determine which of the above regression methods gives the highest score\n",
    "* Compute Root mean squared error (RMSE) which inturn gives a better score than r^2\n",
    "* Finally use a scatter plot to graphically depict the correlation between actual and predicted mpg values"
   ]
  },
  {
   "cell_type": "markdown",
   "id": "6d02ecd3",
   "metadata": {},
   "source": []
  },
  {
   "cell_type": "markdown",
   "id": "30d5723c",
   "metadata": {},
   "source": [
    "# 1. Import packages and observe dataset"
   ]
  },
  {
   "cell_type": "code",
   "execution_count": 1,
   "id": "0de83184",
   "metadata": {},
   "outputs": [],
   "source": [
    "#Import numerical libraries\n",
    "import pandas as pd\n",
    "import numpy as np\n",
    "\n",
    "#Import graphical plotting libraries\n",
    "import seaborn as sns\n",
    "import matplotlib.pyplot as plt\n",
    "%matplotlib inline\n",
    "\n",
    "#Import Linear Regression Machine Learning Libraries\n",
    "from sklearn import preprocessing\n",
    "from sklearn.preprocessing import PolynomialFeatures\n",
    "from sklearn.model_selection import train_test_split\n",
    "\n",
    "from sklearn.linear_model import LinearRegression, Ridge, Lasso\n",
    "from sklearn.metrics import r2_score\n"
   ]
  },
  {
   "cell_type": "code",
   "execution_count": 2,
   "id": "7adaa225",
   "metadata": {},
   "outputs": [],
   "source": [
    "SKLEARN_ALLOW_DEPRECATED_SKLEARN_PACKAGE_INSTALL=True"
   ]
  },
  {
   "cell_type": "code",
   "execution_count": 3,
   "id": "74f31376",
   "metadata": {},
   "outputs": [
    {
     "data": {
      "text/html": [
       "<div>\n",
       "<style scoped>\n",
       "    .dataframe tbody tr th:only-of-type {\n",
       "        vertical-align: middle;\n",
       "    }\n",
       "\n",
       "    .dataframe tbody tr th {\n",
       "        vertical-align: top;\n",
       "    }\n",
       "\n",
       "    .dataframe thead th {\n",
       "        text-align: right;\n",
       "    }\n",
       "</style>\n",
       "<table border=\"1\" class=\"dataframe\">\n",
       "  <thead>\n",
       "    <tr style=\"text-align: right;\">\n",
       "      <th></th>\n",
       "      <th>mpg</th>\n",
       "      <th>cyl</th>\n",
       "      <th>disp</th>\n",
       "      <th>hp</th>\n",
       "      <th>wt</th>\n",
       "      <th>acc</th>\n",
       "      <th>yr</th>\n",
       "      <th>origin</th>\n",
       "      <th>car_type</th>\n",
       "      <th>car_name</th>\n",
       "    </tr>\n",
       "  </thead>\n",
       "  <tbody>\n",
       "    <tr>\n",
       "      <th>0</th>\n",
       "      <td>18.0</td>\n",
       "      <td>8</td>\n",
       "      <td>307.0</td>\n",
       "      <td>130</td>\n",
       "      <td>3504</td>\n",
       "      <td>12.0</td>\n",
       "      <td>70</td>\n",
       "      <td>1</td>\n",
       "      <td>0</td>\n",
       "      <td>chevrolet chevelle malibu</td>\n",
       "    </tr>\n",
       "    <tr>\n",
       "      <th>1</th>\n",
       "      <td>15.0</td>\n",
       "      <td>8</td>\n",
       "      <td>350.0</td>\n",
       "      <td>165</td>\n",
       "      <td>3693</td>\n",
       "      <td>11.5</td>\n",
       "      <td>70</td>\n",
       "      <td>1</td>\n",
       "      <td>0</td>\n",
       "      <td>buick skylark 320</td>\n",
       "    </tr>\n",
       "    <tr>\n",
       "      <th>2</th>\n",
       "      <td>18.0</td>\n",
       "      <td>8</td>\n",
       "      <td>318.0</td>\n",
       "      <td>150</td>\n",
       "      <td>3436</td>\n",
       "      <td>11.0</td>\n",
       "      <td>70</td>\n",
       "      <td>1</td>\n",
       "      <td>0</td>\n",
       "      <td>plymouth satellite</td>\n",
       "    </tr>\n",
       "    <tr>\n",
       "      <th>3</th>\n",
       "      <td>16.0</td>\n",
       "      <td>8</td>\n",
       "      <td>304.0</td>\n",
       "      <td>150</td>\n",
       "      <td>3433</td>\n",
       "      <td>12.0</td>\n",
       "      <td>70</td>\n",
       "      <td>1</td>\n",
       "      <td>0</td>\n",
       "      <td>amc rebel sst</td>\n",
       "    </tr>\n",
       "    <tr>\n",
       "      <th>4</th>\n",
       "      <td>17.0</td>\n",
       "      <td>8</td>\n",
       "      <td>302.0</td>\n",
       "      <td>140</td>\n",
       "      <td>3449</td>\n",
       "      <td>10.5</td>\n",
       "      <td>70</td>\n",
       "      <td>1</td>\n",
       "      <td>0</td>\n",
       "      <td>ford torino</td>\n",
       "    </tr>\n",
       "  </tbody>\n",
       "</table>\n",
       "</div>"
      ],
      "text/plain": [
       "    mpg  cyl   disp   hp    wt   acc  yr  origin  car_type  \\\n",
       "0  18.0    8  307.0  130  3504  12.0  70       1         0   \n",
       "1  15.0    8  350.0  165  3693  11.5  70       1         0   \n",
       "2  18.0    8  318.0  150  3436  11.0  70       1         0   \n",
       "3  16.0    8  304.0  150  3433  12.0  70       1         0   \n",
       "4  17.0    8  302.0  140  3449  10.5  70       1         0   \n",
       "\n",
       "                    car_name  \n",
       "0  chevrolet chevelle malibu  \n",
       "1          buick skylark 320  \n",
       "2         plymouth satellite  \n",
       "3              amc rebel sst  \n",
       "4                ford torino  "
      ]
     },
     "execution_count": 3,
     "metadata": {},
     "output_type": "execute_result"
    }
   ],
   "source": [
    "dataset = pd.read_csv(r\"D:\\Dropbox\\DS & AI\\Full stack DS and AI course\\21 Jun\\250621 car-mpg.csv\")\n",
    "dataset.head()"
   ]
  },
  {
   "cell_type": "markdown",
   "id": "9416548d",
   "metadata": {},
   "source": [
    "We have to predict the mpg column given the features."
   ]
  },
  {
   "cell_type": "markdown",
   "id": "441d5122",
   "metadata": {},
   "source": [
    "# 2. Model building\n",
    "\n",
    "Here we would like to scale the data as the columns are varied which would result in 1 column dominating the others.\n",
    "\n",
    "First we divide the data into independent (X) and dependent data (y) then we scale it. \n",
    "\n",
    "#### Tip!: ####\n",
    "\n",
    "*The reason we don't scale the entire data before and then divide it into train(X) & test(y) is because once you scale the data, the type(data_s) would be numpy.ndarray. It's impossible to divide this data when it's an array. \n",
    "*\n",
    "\n",
    "Hence we divide type(data) pandas.DataFrame, then proceed to scaling it."
   ]
  },
  {
   "cell_type": "code",
   "execution_count": 4,
   "id": "ad2da450",
   "metadata": {},
   "outputs": [],
   "source": [
    "# Drop non-numeric column\n",
    "dataset = dataset.drop(['car_name'], axis=1)\n"
   ]
  },
  {
   "cell_type": "code",
   "execution_count": 5,
   "id": "994c5ff8",
   "metadata": {},
   "outputs": [],
   "source": [
    "# Replace origin codes with region labels\n",
    "dataset['origin'] = dataset['origin'].replace({1: 'america', 2: 'europe', 3: 'asia'})"
   ]
  },
  {
   "cell_type": "code",
   "execution_count": 6,
   "id": "04c4a091",
   "metadata": {},
   "outputs": [],
   "source": [
    "# Convert categorical 'origin' column to dummy variables\n",
    "dataset = pd.get_dummies(dataset,columns = ['origin'], dtype=int)"
   ]
  },
  {
   "cell_type": "code",
   "execution_count": 7,
   "id": "512927d0",
   "metadata": {},
   "outputs": [
    {
     "name": "stderr",
     "output_type": "stream",
     "text": [
      "C:\\Users\\Dell\\AppData\\Local\\Temp\\ipykernel_21600\\3504715553.py:3: FutureWarning: errors='ignore' is deprecated and will raise in a future version. Use to_numeric without passing `errors` and catch exceptions explicitly instead\n",
      "  dataset = dataset.apply(pd.to_numeric, errors='ignore')  # Ensures '?' replaced columns are numeric\n"
     ]
    }
   ],
   "source": [
    "# Replace '?' with NaN, then convert applicable columns to numeric\n",
    "dataset = dataset.replace('?', np.nan)\n",
    "dataset = dataset.apply(pd.to_numeric, errors='ignore')  # Ensures '?' replaced columns are numeric"
   ]
  },
  {
   "cell_type": "code",
   "execution_count": 8,
   "id": "8f0d2d75",
   "metadata": {},
   "outputs": [],
   "source": [
    "# Fill missing values with median only for numeric columns\n",
    "numeric_cols = dataset.select_dtypes(include=[np.number]).columns\n",
    "dataset[numeric_cols] = dataset[numeric_cols].apply(lambda x: x.fillna(x.median()))"
   ]
  },
  {
   "cell_type": "code",
   "execution_count": 9,
   "id": "76ab9dd6",
   "metadata": {},
   "outputs": [],
   "source": [
    "X = dataset.drop(['mpg'], axis=1) # independent variables\n",
    "y = dataset['mpg'] # dependent variable\n",
    "# Split the dataset into training and testing sets"
   ]
  },
  {
   "cell_type": "code",
   "execution_count": 11,
   "id": "4c894ab4",
   "metadata": {},
   "outputs": [
    {
     "name": "stdout",
     "output_type": "stream",
     "text": [
      "The series object has columns.\n"
     ]
    }
   ],
   "source": [
    "if dataset.empty:\n",
    "      print('The series object has no columns.')\n",
    "else:\n",
    "      print('The series object has columns.')"
   ]
  },
  {
   "cell_type": "code",
   "execution_count": 41,
   "id": "d4ce8467",
   "metadata": {},
   "outputs": [
    {
     "ename": "AttributeError",
     "evalue": "'Series' object has no attribute 'columns'",
     "output_type": "error",
     "traceback": [
      "\u001b[1;31m---------------------------------------------------------------------------\u001b[0m",
      "\u001b[1;31mAttributeError\u001b[0m                            Traceback (most recent call last)",
      "\u001b[1;32m~\\AppData\\Local\\Temp\\ipykernel_21600\\4129247911.py\u001b[0m in \u001b[0;36m?\u001b[1;34m()\u001b[0m\n\u001b[0;32m      2\u001b[0m \u001b[0mX_s\u001b[0m \u001b[1;33m=\u001b[0m \u001b[0mpreprocessing\u001b[0m\u001b[1;33m.\u001b[0m\u001b[0mscale\u001b[0m\u001b[1;33m(\u001b[0m\u001b[0mX\u001b[0m\u001b[1;33m)\u001b[0m\u001b[1;33m\u001b[0m\u001b[1;33m\u001b[0m\u001b[0m\n\u001b[0;32m      3\u001b[0m \u001b[0mX_s\u001b[0m \u001b[1;33m=\u001b[0m \u001b[0mpd\u001b[0m\u001b[1;33m.\u001b[0m\u001b[0mDataFrame\u001b[0m\u001b[1;33m(\u001b[0m\u001b[0mX_s\u001b[0m\u001b[1;33m,\u001b[0m \u001b[0mcolumns\u001b[0m \u001b[1;33m=\u001b[0m \u001b[0mX\u001b[0m\u001b[1;33m.\u001b[0m\u001b[0mcolumns\u001b[0m\u001b[1;33m)\u001b[0m \u001b[1;31m#converting scaled data into dataframe\u001b[0m\u001b[1;33m\u001b[0m\u001b[1;33m\u001b[0m\u001b[0m\n\u001b[0;32m      4\u001b[0m \u001b[1;33m\u001b[0m\u001b[0m\n\u001b[0;32m      5\u001b[0m \u001b[0my_s\u001b[0m \u001b[1;33m=\u001b[0m \u001b[0mpreprocessing\u001b[0m\u001b[1;33m.\u001b[0m\u001b[0mscale\u001b[0m\u001b[1;33m(\u001b[0m\u001b[0my\u001b[0m\u001b[1;33m)\u001b[0m\u001b[1;33m\u001b[0m\u001b[1;33m\u001b[0m\u001b[0m\n\u001b[1;32m----> 6\u001b[1;33m \u001b[0my_s\u001b[0m \u001b[1;33m=\u001b[0m \u001b[0mpd\u001b[0m\u001b[1;33m.\u001b[0m\u001b[0mDataFrame\u001b[0m\u001b[1;33m(\u001b[0m\u001b[0my_s\u001b[0m\u001b[1;33m,\u001b[0m \u001b[0mcolumns\u001b[0m \u001b[1;33m=\u001b[0m \u001b[0my\u001b[0m\u001b[1;33m.\u001b[0m\u001b[0mcolumns\u001b[0m\u001b[1;33m)\u001b[0m \u001b[1;31m#ideally train, test data should be in columnss\u001b[0m\u001b[1;33m\u001b[0m\u001b[1;33m\u001b[0m\u001b[0m\n\u001b[0m",
      "\u001b[1;32mc:\\Users\\Dell\\anaconda3\\Lib\\site-packages\\pandas\\core\\generic.py\u001b[0m in \u001b[0;36m?\u001b[1;34m(self, name)\u001b[0m\n\u001b[0;32m   6295\u001b[0m             \u001b[1;32mand\u001b[0m \u001b[0mname\u001b[0m \u001b[1;32mnot\u001b[0m \u001b[1;32min\u001b[0m \u001b[0mself\u001b[0m\u001b[1;33m.\u001b[0m\u001b[0m_accessors\u001b[0m\u001b[1;33m\u001b[0m\u001b[1;33m\u001b[0m\u001b[0m\n\u001b[0;32m   6296\u001b[0m             \u001b[1;32mand\u001b[0m \u001b[0mself\u001b[0m\u001b[1;33m.\u001b[0m\u001b[0m_info_axis\u001b[0m\u001b[1;33m.\u001b[0m\u001b[0m_can_hold_identifiers_and_holds_name\u001b[0m\u001b[1;33m(\u001b[0m\u001b[0mname\u001b[0m\u001b[1;33m)\u001b[0m\u001b[1;33m\u001b[0m\u001b[1;33m\u001b[0m\u001b[0m\n\u001b[0;32m   6297\u001b[0m         \u001b[1;33m)\u001b[0m\u001b[1;33m:\u001b[0m\u001b[1;33m\u001b[0m\u001b[1;33m\u001b[0m\u001b[0m\n\u001b[0;32m   6298\u001b[0m             \u001b[1;32mreturn\u001b[0m \u001b[0mself\u001b[0m\u001b[1;33m[\u001b[0m\u001b[0mname\u001b[0m\u001b[1;33m]\u001b[0m\u001b[1;33m\u001b[0m\u001b[1;33m\u001b[0m\u001b[0m\n\u001b[1;32m-> 6299\u001b[1;33m         \u001b[1;32mreturn\u001b[0m \u001b[0mobject\u001b[0m\u001b[1;33m.\u001b[0m\u001b[0m__getattribute__\u001b[0m\u001b[1;33m(\u001b[0m\u001b[0mself\u001b[0m\u001b[1;33m,\u001b[0m \u001b[0mname\u001b[0m\u001b[1;33m)\u001b[0m\u001b[1;33m\u001b[0m\u001b[1;33m\u001b[0m\u001b[0m\n\u001b[0m",
      "\u001b[1;31mAttributeError\u001b[0m: 'Series' object has no attribute 'columns'"
     ]
    }
   ],
   "source": [
    "# scaling the data\n",
    "X_s = preprocessing.scale(X)\n",
    "X_s = pd.DataFrame(X_s, columns = X.columns) #converting scaled data into dataframe\n",
    "\n",
    "y_s = preprocessing.scale(y)\n",
    "y_s = pd.DataFrame(y_s, columns = y.columns) #ideally train, test data should be in columnss\n"
   ]
  },
  {
   "cell_type": "code",
   "execution_count": 14,
   "id": "fa05c1c8",
   "metadata": {},
   "outputs": [
    {
     "data": {
      "text/html": [
       "<div>\n",
       "<style scoped>\n",
       "    .dataframe tbody tr th:only-of-type {\n",
       "        vertical-align: middle;\n",
       "    }\n",
       "\n",
       "    .dataframe tbody tr th {\n",
       "        vertical-align: top;\n",
       "    }\n",
       "\n",
       "    .dataframe thead th {\n",
       "        text-align: right;\n",
       "    }\n",
       "</style>\n",
       "<table border=\"1\" class=\"dataframe\">\n",
       "  <thead>\n",
       "    <tr style=\"text-align: right;\">\n",
       "      <th></th>\n",
       "      <th>cyl</th>\n",
       "      <th>disp</th>\n",
       "      <th>hp</th>\n",
       "      <th>wt</th>\n",
       "      <th>acc</th>\n",
       "      <th>yr</th>\n",
       "      <th>car_type</th>\n",
       "      <th>origin_america</th>\n",
       "      <th>origin_asia</th>\n",
       "      <th>origin_europe</th>\n",
       "    </tr>\n",
       "  </thead>\n",
       "  <tbody>\n",
       "    <tr>\n",
       "      <th>0</th>\n",
       "      <td>1.498191</td>\n",
       "      <td>1.090604</td>\n",
       "      <td>0.673118</td>\n",
       "      <td>0.630870</td>\n",
       "      <td>-1.295498</td>\n",
       "      <td>-1.627426</td>\n",
       "      <td>-1.062235</td>\n",
       "      <td>0.773559</td>\n",
       "      <td>-0.497643</td>\n",
       "      <td>-0.461968</td>\n",
       "    </tr>\n",
       "    <tr>\n",
       "      <th>1</th>\n",
       "      <td>1.498191</td>\n",
       "      <td>1.503514</td>\n",
       "      <td>1.589958</td>\n",
       "      <td>0.854333</td>\n",
       "      <td>-1.477038</td>\n",
       "      <td>-1.627426</td>\n",
       "      <td>-1.062235</td>\n",
       "      <td>0.773559</td>\n",
       "      <td>-0.497643</td>\n",
       "      <td>-0.461968</td>\n",
       "    </tr>\n",
       "    <tr>\n",
       "      <th>2</th>\n",
       "      <td>1.498191</td>\n",
       "      <td>1.196232</td>\n",
       "      <td>1.197027</td>\n",
       "      <td>0.550470</td>\n",
       "      <td>-1.658577</td>\n",
       "      <td>-1.627426</td>\n",
       "      <td>-1.062235</td>\n",
       "      <td>0.773559</td>\n",
       "      <td>-0.497643</td>\n",
       "      <td>-0.461968</td>\n",
       "    </tr>\n",
       "    <tr>\n",
       "      <th>3</th>\n",
       "      <td>1.498191</td>\n",
       "      <td>1.061796</td>\n",
       "      <td>1.197027</td>\n",
       "      <td>0.546923</td>\n",
       "      <td>-1.295498</td>\n",
       "      <td>-1.627426</td>\n",
       "      <td>-1.062235</td>\n",
       "      <td>0.773559</td>\n",
       "      <td>-0.497643</td>\n",
       "      <td>-0.461968</td>\n",
       "    </tr>\n",
       "    <tr>\n",
       "      <th>4</th>\n",
       "      <td>1.498191</td>\n",
       "      <td>1.042591</td>\n",
       "      <td>0.935072</td>\n",
       "      <td>0.565841</td>\n",
       "      <td>-1.840117</td>\n",
       "      <td>-1.627426</td>\n",
       "      <td>-1.062235</td>\n",
       "      <td>0.773559</td>\n",
       "      <td>-0.497643</td>\n",
       "      <td>-0.461968</td>\n",
       "    </tr>\n",
       "    <tr>\n",
       "      <th>...</th>\n",
       "      <td>...</td>\n",
       "      <td>...</td>\n",
       "      <td>...</td>\n",
       "      <td>...</td>\n",
       "      <td>...</td>\n",
       "      <td>...</td>\n",
       "      <td>...</td>\n",
       "      <td>...</td>\n",
       "      <td>...</td>\n",
       "      <td>...</td>\n",
       "    </tr>\n",
       "    <tr>\n",
       "      <th>393</th>\n",
       "      <td>-0.856321</td>\n",
       "      <td>-0.513026</td>\n",
       "      <td>-0.479482</td>\n",
       "      <td>-0.213324</td>\n",
       "      <td>0.011586</td>\n",
       "      <td>1.621983</td>\n",
       "      <td>0.941412</td>\n",
       "      <td>0.773559</td>\n",
       "      <td>-0.497643</td>\n",
       "      <td>-0.461968</td>\n",
       "    </tr>\n",
       "    <tr>\n",
       "      <th>394</th>\n",
       "      <td>-0.856321</td>\n",
       "      <td>-0.925936</td>\n",
       "      <td>-1.370127</td>\n",
       "      <td>-0.993671</td>\n",
       "      <td>3.279296</td>\n",
       "      <td>1.621983</td>\n",
       "      <td>0.941412</td>\n",
       "      <td>-1.292726</td>\n",
       "      <td>-0.497643</td>\n",
       "      <td>2.164651</td>\n",
       "    </tr>\n",
       "    <tr>\n",
       "      <th>395</th>\n",
       "      <td>-0.856321</td>\n",
       "      <td>-0.561039</td>\n",
       "      <td>-0.531873</td>\n",
       "      <td>-0.798585</td>\n",
       "      <td>-1.440730</td>\n",
       "      <td>1.621983</td>\n",
       "      <td>0.941412</td>\n",
       "      <td>0.773559</td>\n",
       "      <td>-0.497643</td>\n",
       "      <td>-0.461968</td>\n",
       "    </tr>\n",
       "    <tr>\n",
       "      <th>396</th>\n",
       "      <td>-0.856321</td>\n",
       "      <td>-0.705077</td>\n",
       "      <td>-0.662850</td>\n",
       "      <td>-0.408411</td>\n",
       "      <td>1.100822</td>\n",
       "      <td>1.621983</td>\n",
       "      <td>0.941412</td>\n",
       "      <td>0.773559</td>\n",
       "      <td>-0.497643</td>\n",
       "      <td>-0.461968</td>\n",
       "    </tr>\n",
       "    <tr>\n",
       "      <th>397</th>\n",
       "      <td>-0.856321</td>\n",
       "      <td>-0.714680</td>\n",
       "      <td>-0.584264</td>\n",
       "      <td>-0.296088</td>\n",
       "      <td>1.391285</td>\n",
       "      <td>1.621983</td>\n",
       "      <td>0.941412</td>\n",
       "      <td>0.773559</td>\n",
       "      <td>-0.497643</td>\n",
       "      <td>-0.461968</td>\n",
       "    </tr>\n",
       "  </tbody>\n",
       "</table>\n",
       "<p>398 rows × 10 columns</p>\n",
       "</div>"
      ],
      "text/plain": [
       "          cyl      disp        hp        wt       acc        yr  car_type  \\\n",
       "0    1.498191  1.090604  0.673118  0.630870 -1.295498 -1.627426 -1.062235   \n",
       "1    1.498191  1.503514  1.589958  0.854333 -1.477038 -1.627426 -1.062235   \n",
       "2    1.498191  1.196232  1.197027  0.550470 -1.658577 -1.627426 -1.062235   \n",
       "3    1.498191  1.061796  1.197027  0.546923 -1.295498 -1.627426 -1.062235   \n",
       "4    1.498191  1.042591  0.935072  0.565841 -1.840117 -1.627426 -1.062235   \n",
       "..        ...       ...       ...       ...       ...       ...       ...   \n",
       "393 -0.856321 -0.513026 -0.479482 -0.213324  0.011586  1.621983  0.941412   \n",
       "394 -0.856321 -0.925936 -1.370127 -0.993671  3.279296  1.621983  0.941412   \n",
       "395 -0.856321 -0.561039 -0.531873 -0.798585 -1.440730  1.621983  0.941412   \n",
       "396 -0.856321 -0.705077 -0.662850 -0.408411  1.100822  1.621983  0.941412   \n",
       "397 -0.856321 -0.714680 -0.584264 -0.296088  1.391285  1.621983  0.941412   \n",
       "\n",
       "     origin_america  origin_asia  origin_europe  \n",
       "0          0.773559    -0.497643      -0.461968  \n",
       "1          0.773559    -0.497643      -0.461968  \n",
       "2          0.773559    -0.497643      -0.461968  \n",
       "3          0.773559    -0.497643      -0.461968  \n",
       "4          0.773559    -0.497643      -0.461968  \n",
       "..              ...          ...            ...  \n",
       "393        0.773559    -0.497643      -0.461968  \n",
       "394       -1.292726    -0.497643       2.164651  \n",
       "395        0.773559    -0.497643      -0.461968  \n",
       "396        0.773559    -0.497643      -0.461968  \n",
       "397        0.773559    -0.497643      -0.461968  \n",
       "\n",
       "[398 rows x 10 columns]"
      ]
     },
     "execution_count": 14,
     "metadata": {},
     "output_type": "execute_result"
    }
   ],
   "source": [
    "X_s"
   ]
  },
  {
   "cell_type": "code",
   "execution_count": null,
   "id": "5cb92724",
   "metadata": {},
   "outputs": [
    {
     "data": {
      "text/plain": [
       "(398, 11)"
      ]
     },
     "execution_count": 31,
     "metadata": {},
     "output_type": "execute_result"
    }
   ],
   "source": [
    "dataset.shape"
   ]
  },
  {
   "cell_type": "code",
   "execution_count": 13,
   "id": "8f7fd9cf",
   "metadata": {},
   "outputs": [
    {
     "data": {
      "text/plain": [
       "(318, 10)"
      ]
     },
     "execution_count": 13,
     "metadata": {},
     "output_type": "execute_result"
    }
   ],
   "source": [
    "# split the dataset into training and testing sets\n",
    "X_train, X_test, y_train, y_test = train_test_split(X_s, y_s, test_size=0.2, random_state=0)\n",
    "X_train.shape"
   ]
  },
  {
   "cell_type": "markdown",
   "id": "9cd2898f",
   "metadata": {},
   "source": [
    "## 2.a Simple Linear Model"
   ]
  },
  {
   "cell_type": "code",
   "execution_count": 17,
   "id": "f49eb2c0",
   "metadata": {},
   "outputs": [
    {
     "name": "stdout",
     "output_type": "stream",
     "text": [
      "The coefficient for cyl is 0.24638776053571607\n",
      "The coefficient for disp is 0.29177092098664514\n",
      "The coefficient for hp is -0.18081621820393654\n",
      "The coefficient for wt is -0.6675530609868133\n",
      "The coefficient for acc is 0.06537309205777078\n",
      "The coefficient for yr is 0.348177025942672\n",
      "The coefficient for car_type is 0.3339231253960362\n",
      "The coefficient for origin_america is -0.08117984631927024\n",
      "The coefficient for origin_asia is 0.06986098209664919\n",
      "The coefficient for origin_europe is 0.030003161242288134\n",
      "The intercept is -0.018006831370923248\n"
     ]
    }
   ],
   "source": [
    "#Fit simple linear model and find coefficients\n",
    "regression_model = LinearRegression()\n",
    "regression_model.fit(X_train, y_train)\n",
    "\n",
    "for idx, col_name in enumerate(X_train.columns):\n",
    "    print('The coefficient for {} is {}'.format(col_name, regression_model.coef_[idx]))\n",
    "\n",
    "intercept = regression_model.intercept_\n",
    "print('The intercept is {}'.format(intercept))"
   ]
  },
  {
   "cell_type": "markdown",
   "id": "9ecf294f",
   "metadata": {},
   "source": [
    "## 2.b Regularized Ridge Regression"
   ]
  },
  {
   "cell_type": "code",
   "execution_count": 19,
   "id": "14ef356f",
   "metadata": {},
   "outputs": [
    {
     "name": "stdout",
     "output_type": "stream",
     "text": [
      "Ridge model coef: [ 0.24342352  0.28293268 -0.18074242 -0.65967997  0.06398366  0.34745486\n",
      "  0.33096428 -0.08087356  0.06988696  0.0295866 ]\n"
     ]
    }
   ],
   "source": [
    "#alpha factor here is lambda (penalty term) which helps to reduce the magnitude of coeff\n",
    "\n",
    "ridge_model = Ridge(alpha = 0.3)\n",
    "ridge_model.fit(X_train, y_train)\n",
    "\n",
    "print('Ridge model coef: {}'.format(ridge_model.coef_))\n",
    "#As the data has 10 columns hence 10 coefficients appear here "
   ]
  },
  {
   "cell_type": "markdown",
   "id": "d75d0b93",
   "metadata": {},
   "source": [
    "## 2.c Regularized Lasso Regression"
   ]
  },
  {
   "cell_type": "code",
   "execution_count": 20,
   "id": "a248f7cd",
   "metadata": {},
   "outputs": [
    {
     "name": "stdout",
     "output_type": "stream",
     "text": [
      "Lasso model coef: [-0.         -0.         -0.07247557 -0.45867691  0.          0.2698134\n",
      "  0.11341188 -0.04988145  0.          0.        ]\n"
     ]
    }
   ],
   "source": [
    "#alpha factor here is lambda (penalty term) which helps to reduce the magnitude of coeff\n",
    "\n",
    "lasso_model = Lasso(alpha = 0.1)\n",
    "lasso_model.fit(X_train, y_train)\n",
    "\n",
    "print('Lasso model coef: {}'.format(lasso_model.coef_))\n",
    "#As the data has 10 columns hence 10 coefficients appear here  "
   ]
  },
  {
   "cell_type": "markdown",
   "id": "bb0930a7",
   "metadata": {},
   "source": [
    "Here we notice many coefficients are turned to 0 indicating drop of those dimensions from the model"
   ]
  },
  {
   "cell_type": "markdown",
   "id": "01f4c998",
   "metadata": {},
   "source": [
    "# 3. Score Comparison"
   ]
  },
  {
   "cell_type": "code",
   "execution_count": 21,
   "id": "648f6d6e",
   "metadata": {},
   "outputs": [
    {
     "name": "stdout",
     "output_type": "stream",
     "text": [
      "0.8373422857977738\n",
      "0.8474768646673948\n",
      "*************************\n",
      "0.8373329560874541\n",
      "0.8472637866465941\n",
      "*************************\n",
      "0.8007202116330951\n",
      "0.8283046020148332\n"
     ]
    }
   ],
   "source": [
    "#Model score - r^2 or coeff of determinant\n",
    "#r^2 = 1-(RSS/TSS) = Regression error/TSS \n",
    "\n",
    "\n",
    "#Simple Linear Model\n",
    "print(regression_model.score(X_train, y_train))\n",
    "print(regression_model.score(X_test, y_test))\n",
    "\n",
    "print('*************************')\n",
    "#Ridge\n",
    "print(ridge_model.score(X_train, y_train))\n",
    "print(ridge_model.score(X_test, y_test))\n",
    "\n",
    "print('*************************')\n",
    "#Lasso\n",
    "print(lasso_model.score(X_train, y_train))\n",
    "print(lasso_model.score(X_test, y_test))"
   ]
  },
  {
   "cell_type": "markdown",
   "id": "b9a4a572",
   "metadata": {},
   "source": [
    "## Polynomial Features\n",
    "If you wish to further compute polynomial features, you can use the below code."
   ]
  },
  {
   "cell_type": "code",
   "execution_count": null,
   "id": "d191ff83",
   "metadata": {},
   "outputs": [],
   "source": [
    "poly = PolynomialFeatures(degree = 2, interaction_only = True)\n",
    "\n",
    "#Fit calculates u and std dev while transform applies the transformation to a particular set of examples\n",
    "#Here fit_transform helps to fit and transform the X_s\n",
    "#Hence type(X_poly) is numpy.array while type(X_s) is pandas.DataFrame \n",
    "\n",
    "X_poly = poly.fit_transform(X_s)\n",
    "\n",
    "#Similarly capture the coefficients and intercepts of this polynomial feature model"
   ]
  },
  {
   "cell_type": "markdown",
   "id": "0248774a",
   "metadata": {},
   "source": [
    "# 4. Model Parameter Tuning\n",
    "\n",
    "- r^2 is not a reliable metric as it always increases with addition of more attributes even if the attributes have no influence on the predicted variable. \n",
    "- Instead we use adjusted r^2 which removes the statistical chance that improves r^2 (adjusted r^2 = r^2 - fluke)\n",
    "- Scikit does not provide a facility for adjusted r^2... so we use statsmodel, a library that gives results similar to what you obtain in R language\n",
    "- This library expects the X and Y to be given in one single dataframe"
   ]
  },
  {
   "cell_type": "code",
   "execution_count": 28,
   "id": "0e6cc788",
   "metadata": {},
   "outputs": [
    {
     "data": {
      "text/html": [
       "<div>\n",
       "<style scoped>\n",
       "    .dataframe tbody tr th:only-of-type {\n",
       "        vertical-align: middle;\n",
       "    }\n",
       "\n",
       "    .dataframe tbody tr th {\n",
       "        vertical-align: top;\n",
       "    }\n",
       "\n",
       "    .dataframe thead th {\n",
       "        text-align: right;\n",
       "    }\n",
       "</style>\n",
       "<table border=\"1\" class=\"dataframe\">\n",
       "  <thead>\n",
       "    <tr style=\"text-align: right;\">\n",
       "      <th></th>\n",
       "      <th>cyl</th>\n",
       "      <th>disp</th>\n",
       "      <th>hp</th>\n",
       "      <th>wt</th>\n",
       "      <th>acc</th>\n",
       "      <th>yr</th>\n",
       "      <th>car_type</th>\n",
       "      <th>origin_america</th>\n",
       "      <th>origin_asia</th>\n",
       "      <th>origin_europe</th>\n",
       "      <th>mpg</th>\n",
       "    </tr>\n",
       "  </thead>\n",
       "  <tbody>\n",
       "    <tr>\n",
       "      <th>64</th>\n",
       "      <td>1.498191</td>\n",
       "      <td>1.196232</td>\n",
       "      <td>1.197027</td>\n",
       "      <td>1.376929</td>\n",
       "      <td>-0.750880</td>\n",
       "      <td>-1.085858</td>\n",
       "      <td>-1.062235</td>\n",
       "      <td>0.773559</td>\n",
       "      <td>-0.497643</td>\n",
       "      <td>-0.461968</td>\n",
       "      <td>-1.090751</td>\n",
       "    </tr>\n",
       "    <tr>\n",
       "      <th>55</th>\n",
       "      <td>-0.856321</td>\n",
       "      <td>-0.925936</td>\n",
       "      <td>-1.160564</td>\n",
       "      <td>-1.343645</td>\n",
       "      <td>1.246054</td>\n",
       "      <td>-1.356642</td>\n",
       "      <td>0.941412</td>\n",
       "      <td>-1.292726</td>\n",
       "      <td>-0.497643</td>\n",
       "      <td>2.164651</td>\n",
       "      <td>0.446497</td>\n",
       "    </tr>\n",
       "    <tr>\n",
       "      <th>317</th>\n",
       "      <td>-0.856321</td>\n",
       "      <td>-0.925936</td>\n",
       "      <td>-0.689046</td>\n",
       "      <td>-0.925095</td>\n",
       "      <td>0.084201</td>\n",
       "      <td>1.080415</td>\n",
       "      <td>0.941412</td>\n",
       "      <td>-1.292726</td>\n",
       "      <td>-0.497643</td>\n",
       "      <td>2.164651</td>\n",
       "      <td>1.381656</td>\n",
       "    </tr>\n",
       "    <tr>\n",
       "      <th>102</th>\n",
       "      <td>-0.856321</td>\n",
       "      <td>-0.925936</td>\n",
       "      <td>-1.527300</td>\n",
       "      <td>-1.206493</td>\n",
       "      <td>1.972212</td>\n",
       "      <td>-0.815074</td>\n",
       "      <td>0.941412</td>\n",
       "      <td>-1.292726</td>\n",
       "      <td>-0.497643</td>\n",
       "      <td>2.164651</td>\n",
       "      <td>0.318393</td>\n",
       "    </tr>\n",
       "    <tr>\n",
       "      <th>358</th>\n",
       "      <td>-0.856321</td>\n",
       "      <td>-0.705077</td>\n",
       "      <td>-0.793827</td>\n",
       "      <td>-0.396587</td>\n",
       "      <td>0.991899</td>\n",
       "      <td>1.351199</td>\n",
       "      <td>0.941412</td>\n",
       "      <td>-1.292726</td>\n",
       "      <td>2.009471</td>\n",
       "      <td>-0.461968</td>\n",
       "      <td>1.035775</td>\n",
       "    </tr>\n",
       "  </tbody>\n",
       "</table>\n",
       "</div>"
      ],
      "text/plain": [
       "          cyl      disp        hp        wt       acc        yr  car_type  \\\n",
       "64   1.498191  1.196232  1.197027  1.376929 -0.750880 -1.085858 -1.062235   \n",
       "55  -0.856321 -0.925936 -1.160564 -1.343645  1.246054 -1.356642  0.941412   \n",
       "317 -0.856321 -0.925936 -0.689046 -0.925095  0.084201  1.080415  0.941412   \n",
       "102 -0.856321 -0.925936 -1.527300 -1.206493  1.972212 -0.815074  0.941412   \n",
       "358 -0.856321 -0.705077 -0.793827 -0.396587  0.991899  1.351199  0.941412   \n",
       "\n",
       "     origin_america  origin_asia  origin_europe       mpg  \n",
       "64         0.773559    -0.497643      -0.461968 -1.090751  \n",
       "55        -1.292726    -0.497643       2.164651  0.446497  \n",
       "317       -1.292726    -0.497643       2.164651  1.381656  \n",
       "102       -1.292726    -0.497643       2.164651  0.318393  \n",
       "358       -1.292726     2.009471      -0.461968  1.035775  "
      ]
     },
     "execution_count": 28,
     "metadata": {},
     "output_type": "execute_result"
    }
   ],
   "source": [
    "# Convert y_train to DataFrame before concatenation\n",
    "y_train_df = pd.DataFrame(y_train, index=X_train.index, columns=['mpg'])\n",
    "dataset_train_test = pd.concat([X_train, y_train_df], axis=1)\n",
    "dataset_train_test.head()\n"
   ]
  },
  {
   "cell_type": "code",
   "execution_count": 31,
   "id": "a8369203",
   "metadata": {},
   "outputs": [
    {
     "data": {
      "text/plain": [
       "Intercept        -0.018007\n",
       "cyl               0.246388\n",
       "disp              0.291771\n",
       "hp               -0.180816\n",
       "wt               -0.667553\n",
       "acc               0.065373\n",
       "yr                0.348177\n",
       "car_type          0.333923\n",
       "origin_america   -0.081180\n",
       "origin_europe     0.030003\n",
       "origin_asia       0.069861\n",
       "dtype: float64"
      ]
     },
     "execution_count": 31,
     "metadata": {},
     "output_type": "execute_result"
    }
   ],
   "source": [
    "import statsmodels.formula.api as smf\n",
    "ols1 = smf.ols(formula='mpg ~ cyl+disp+hp+wt+acc+yr+car_type+origin_america+origin_europe+origin_asia', data=dataset_train_test).fit()\n",
    "ols1.params"
   ]
  },
  {
   "cell_type": "code",
   "execution_count": 32,
   "id": "a6b20906",
   "metadata": {},
   "outputs": [
    {
     "name": "stdout",
     "output_type": "stream",
     "text": [
      "                            OLS Regression Results                            \n",
      "==============================================================================\n",
      "Dep. Variable:                    mpg   R-squared:                       0.837\n",
      "Model:                            OLS   Adj. R-squared:                  0.833\n",
      "Method:                 Least Squares   F-statistic:                     176.2\n",
      "Date:                Sat, 21 Jun 2025   Prob (F-statistic):          7.60e-116\n",
      "Time:                        22:20:53   Log-Likelihood:                -160.75\n",
      "No. Observations:                 318   AIC:                             341.5\n",
      "Df Residuals:                     308   BIC:                             379.1\n",
      "Df Model:                           9                                         \n",
      "Covariance Type:            nonrobust                                         \n",
      "==================================================================================\n",
      "                     coef    std err          t      P>|t|      [0.025      0.975]\n",
      "----------------------------------------------------------------------------------\n",
      "Intercept         -0.0180      0.023     -0.786      0.433      -0.063       0.027\n",
      "cyl                0.2464      0.096      2.571      0.011       0.058       0.435\n",
      "disp               0.2918      0.112      2.606      0.010       0.071       0.512\n",
      "hp                -0.1808      0.073     -2.481      0.014      -0.324      -0.037\n",
      "wt                -0.6676      0.076     -8.797      0.000      -0.817      -0.518\n",
      "acc                0.0654      0.037      1.768      0.078      -0.007       0.138\n",
      "yr                 0.3482      0.026     13.266      0.000       0.297       0.400\n",
      "car_type           0.3339      0.061      5.518      0.000       0.215       0.453\n",
      "origin_america    -0.0812      0.018     -4.448      0.000      -0.117      -0.045\n",
      "origin_europe      0.0300      0.019      1.600      0.111      -0.007       0.067\n",
      "origin_asia        0.0699      0.019      3.752      0.000       0.033       0.106\n",
      "==============================================================================\n",
      "Omnibus:                       33.608   Durbin-Watson:                   1.862\n",
      "Prob(Omnibus):                  0.000   Jarque-Bera (JB):               58.482\n",
      "Skew:                           0.625   Prob(JB):                     2.00e-13\n",
      "Kurtosis:                       4.688   Cond. No.                     8.94e+15\n",
      "==============================================================================\n",
      "\n",
      "Notes:\n",
      "[1] Standard Errors assume that the covariance matrix of the errors is correctly specified.\n",
      "[2] The smallest eigenvalue is 2.28e-29. This might indicate that there are\n",
      "strong multicollinearity problems or that the design matrix is singular.\n"
     ]
    }
   ],
   "source": [
    "print(ols1.summary())"
   ]
  },
  {
   "cell_type": "code",
   "execution_count": 33,
   "id": "844808aa",
   "metadata": {},
   "outputs": [
    {
     "name": "stdout",
     "output_type": "stream",
     "text": [
      "Root Mean Squared Error: 0.39853963361814243\n"
     ]
    }
   ],
   "source": [
    "#Lets check Sum of Squared Errors (SSE) by predicting value of y for test cases and subtracting from the actual y for the test cases\n",
    "mse  = np.mean((regression_model.predict(X_test)-y_test)**2)\n",
    "\n",
    "# root of mean_sq_error is standard deviation i.e. avg variance between predicted and actual\n",
    "import math\n",
    "rmse = math.sqrt(mse)\n",
    "print('Root Mean Squared Error: {}'.format(rmse))"
   ]
  },
  {
   "cell_type": "markdown",
   "id": "2e5fa0e6",
   "metadata": {},
   "source": [
    "**So there is an avg. mpg difference of 0.37 from real mpg**"
   ]
  },
  {
   "cell_type": "code",
   "execution_count": 36,
   "id": "8d138713",
   "metadata": {},
   "outputs": [
    {
     "ename": "IndexError",
     "evalue": "only integers, slices (`:`), ellipsis (`...`), numpy.newaxis (`None`) and integer or boolean arrays are valid indices",
     "output_type": "error",
     "traceback": [
      "\u001b[1;31m---------------------------------------------------------------------------\u001b[0m",
      "\u001b[1;31mIndexError\u001b[0m                                Traceback (most recent call last)",
      "Cell \u001b[1;32mIn[36], line 4\u001b[0m\n\u001b[0;32m      1\u001b[0m \u001b[38;5;66;03m# Is OLS a good model ? Lets check the residuals for some of these predictor.\u001b[39;00m\n\u001b[0;32m      3\u001b[0m fig \u001b[38;5;241m=\u001b[39m plt\u001b[38;5;241m.\u001b[39mfigure(figsize\u001b[38;5;241m=\u001b[39m(\u001b[38;5;241m10\u001b[39m,\u001b[38;5;241m8\u001b[39m))\n\u001b[1;32m----> 4\u001b[0m sns\u001b[38;5;241m.\u001b[39mresidplot(x\u001b[38;5;241m=\u001b[39m X_test[\u001b[38;5;124m'\u001b[39m\u001b[38;5;124mhp\u001b[39m\u001b[38;5;124m'\u001b[39m], y\u001b[38;5;241m=\u001b[39m y_test[\u001b[38;5;124m'\u001b[39m\u001b[38;5;124mmpg\u001b[39m\u001b[38;5;124m'\u001b[39m], color\u001b[38;5;241m=\u001b[39m\u001b[38;5;124m'\u001b[39m\u001b[38;5;124mgreen\u001b[39m\u001b[38;5;124m'\u001b[39m, lowess\u001b[38;5;241m=\u001b[39m\u001b[38;5;28;01mTrue\u001b[39;00m )\n\u001b[0;32m      7\u001b[0m fig \u001b[38;5;241m=\u001b[39m plt\u001b[38;5;241m.\u001b[39mfigure(figsize\u001b[38;5;241m=\u001b[39m(\u001b[38;5;241m10\u001b[39m,\u001b[38;5;241m8\u001b[39m))\n\u001b[0;32m      8\u001b[0m sns\u001b[38;5;241m.\u001b[39mresidplot(x\u001b[38;5;241m=\u001b[39m X_test[\u001b[38;5;124m'\u001b[39m\u001b[38;5;124macc\u001b[39m\u001b[38;5;124m'\u001b[39m], y\u001b[38;5;241m=\u001b[39m y_test[\u001b[38;5;124m'\u001b[39m\u001b[38;5;124mmpg\u001b[39m\u001b[38;5;124m'\u001b[39m], color\u001b[38;5;241m=\u001b[39m\u001b[38;5;124m'\u001b[39m\u001b[38;5;124mgreen\u001b[39m\u001b[38;5;124m'\u001b[39m, lowess\u001b[38;5;241m=\u001b[39m\u001b[38;5;28;01mTrue\u001b[39;00m )\n",
      "\u001b[1;31mIndexError\u001b[0m: only integers, slices (`:`), ellipsis (`...`), numpy.newaxis (`None`) and integer or boolean arrays are valid indices"
     ]
    }
   ],
   "source": [
    "# Is OLS a good model ? Lets check the residuals for some of these predictor.\n",
    "\n",
    "fig = plt.figure(figsize=(10,8))\n",
    "sns.residplot(x= X_test['hp'], y= y_test['mpg'], color='green', lowess=True )\n",
    "\n",
    "\n",
    "fig = plt.figure(figsize=(10,8))\n",
    "sns.residplot(x= X_test['acc'], y= y_test['mpg'], color='green', lowess=True )"
   ]
  },
  {
   "cell_type": "code",
   "execution_count": 37,
   "id": "be666180",
   "metadata": {},
   "outputs": [
    {
     "data": {
      "text/plain": [
       "<Figure size 1000x800 with 0 Axes>"
      ]
     },
     "metadata": {},
     "output_type": "display_data"
    },
    {
     "data": {
      "image/png": "[encoded data removed]",
      "text/plain": [
       "<Figure size 1000x800 with 1 Axes>"
      ]
     },
     "metadata": {},
     "output_type": "display_data"
    },
    {
     "data": {
      "image/png": "[encoded data removed]",
      "text/plain": [
       "<Figure size 1000x800 with 1 Axes>"
      ]
     },
     "metadata": {},
     "output_type": "display_data"
    },
    {
     "data": {
      "text/plain": [
       "<Figure size 1000x800 with 0 Axes>"
      ]
     },
     "metadata": {},
     "output_type": "display_data"
    },
    {
     "data": {
      "image/png": "[encoded data removed]",
      "text/plain": [
       "<Figure size 1000x800 with 1 Axes>"
      ]
     },
     "metadata": {},
     "output_type": "display_data"
    },
    {
     "data": {
      "image/png": "[encoded data removed]",
      "text/plain": [
       "<Figure size 1000x800 with 1 Axes>"
      ]
     },
     "metadata": {},
     "output_type": "display_data"
    }
   ],
   "source": [
    "# Is OLS a good model ? Lets check the residuals for some of these predictor.\n",
    "\n",
    "fig = plt.figure(figsize=(10,8))\n",
    "sns.residplot(x= X_test['hp'], y= y_test, color='green', lowess=True )\n",
    "\n",
    "\n",
    "fig = plt.figure(figsize=(10,8))\n",
    "sns.residplot(x= X_test['acc'], y= y_test, color='green', lowess=True )\n",
    "plt.show()"
   ]
  },
  {
   "cell_type": "code",
   "execution_count": 38,
   "id": "e82c1ecb",
   "metadata": {},
   "outputs": [
    {
     "ename": "IndexError",
     "evalue": "only integers, slices (`:`), ellipsis (`...`), numpy.newaxis (`None`) and integer or boolean arrays are valid indices",
     "output_type": "error",
     "traceback": [
      "\u001b[1;31m---------------------------------------------------------------------------\u001b[0m",
      "\u001b[1;31mIndexError\u001b[0m                                Traceback (most recent call last)",
      "Cell \u001b[1;32mIn[38], line 7\u001b[0m\n\u001b[0;32m      2\u001b[0m y_pred \u001b[38;5;241m=\u001b[39m regression_model\u001b[38;5;241m.\u001b[39mpredict(X_test)\n\u001b[0;32m      4\u001b[0m \u001b[38;5;66;03m# Since this is regression, plot the predicted y value vs actual y values for the test data\u001b[39;00m\n\u001b[0;32m      5\u001b[0m \u001b[38;5;66;03m# A good model's prediction will be close to actual leading to high R and R2 values\u001b[39;00m\n\u001b[0;32m      6\u001b[0m \u001b[38;5;66;03m#plt.rcParams['figure.dpi'] = 500\u001b[39;00m\n\u001b[1;32m----> 7\u001b[0m plt\u001b[38;5;241m.\u001b[39mscatter(y_test[\u001b[38;5;124m'\u001b[39m\u001b[38;5;124mmpg\u001b[39m\u001b[38;5;124m'\u001b[39m], y_pred)\n",
      "\u001b[1;31mIndexError\u001b[0m: only integers, slices (`:`), ellipsis (`...`), numpy.newaxis (`None`) and integer or boolean arrays are valid indices"
     ]
    }
   ],
   "source": [
    "# predict mileage (mpg) for a set of attributes not in the training or test set\n",
    "y_pred = regression_model.predict(X_test)\n",
    "\n",
    "# Since this is regression, plot the predicted y value vs actual y values for the test data\n",
    "# A good model's prediction will be close to actual leading to high R and R2 values\n",
    "#plt.rcParams['figure.dpi'] = 500\n",
    "plt.scatter(y_test['mpg'], y_pred)"
   ]
  },
  {
   "cell_type": "code",
   "execution_count": 40,
   "id": "c737d2c8",
   "metadata": {},
   "outputs": [
    {
     "data": {
      "image/png": "[encoded data removed]",
      "text/plain": [
       "<Figure size 640x480 with 1 Axes>"
      ]
     },
     "metadata": {},
     "output_type": "display_data"
    }
   ],
   "source": [
    "# predict mileage (mpg) for a set of attributes not in the training or test set\n",
    "y_pred = regression_model.predict(X_test)\n",
    "\n",
    "# Since this is regression, plot the predicted y value vs actual y values for the test data\n",
    "# A good model's prediction will be close to actual leading to high R and R2 values\n",
    "#plt.rcParams['figure.dpi'] = 500\n",
    "plt.scatter(y_test, y_pred)\n",
    "plt.show()"
   ]
  },
  {
   "cell_type": "markdown",
   "id": "e8dcfa24",
   "metadata": {},
   "source": [
    "# 5. Inference\n",
    "**Both Ridge & Lasso regularization performs very well on this data, though Ridge gives a better score. The above scatter plot depicts the correlation between the actual and predicted mpg values.**\n",
    "\n",
    "***This kernel is a work in progress.***"
   ]
  },
  {
   "cell_type": "code",
   "execution_count": null,
   "metadata": {},
   "outputs": [],
   "source": []
  }
 ],
 "metadata": {
  "kernelspec": {
   "display_name": "base",
   "language": "python",
   "name": "python3"
  },
  "language_info": {
   "codemirror_mode": {
    "name": "ipython",
    "version": 3
   },
   "file_extension": ".py",
   "mimetype": "text/x-python",
   "name": "python",
   "nbconvert_exporter": "python",
   "pygments_lexer": "ipython3",
   "version": "3.12.7"
  }
 },
 "nbformat": 4,
 "nbformat_minor": 5
}
